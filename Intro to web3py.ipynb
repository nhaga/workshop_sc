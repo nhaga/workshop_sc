{
 "cells": [
  {
   "cell_type": "markdown",
   "metadata": {},
   "source": [
    "# Intro to Web3y"
   ]
  },
  {
   "cell_type": "markdown",
   "metadata": {},
   "source": [
    "## Connecting to a Node"
   ]
  },
  {
   "cell_type": "markdown",
   "metadata": {},
   "source": [
    "Using a public rpc endpoint (https://chainlist.org/)"
   ]
  },
  {
   "cell_type": "code",
   "execution_count": 2,
   "metadata": {},
   "outputs": [
    {
     "name": "stdout",
     "output_type": "stream",
     "text": [
      "MUMBAI Connection:  True\n"
     ]
    }
   ],
   "source": [
    "from web3 import Web3\n",
    "\n",
    "web3 = Web3(Web3.HTTPProvider(\"https://matic-mumbai.chainstacklabs.com\"))\n",
    "print(\"MUMBAI Connection: \", web3.is_connected())"
   ]
  },
  {
   "cell_type": "markdown",
   "metadata": {},
   "source": [
    "Using Alchemy\n",
    "\n",
    "(assumes you have a `.env` file with your alchemy key as WEB3_ALCHEMY_API_KEY)"
   ]
  },
  {
   "cell_type": "code",
   "execution_count": 3,
   "metadata": {},
   "outputs": [
    {
     "name": "stdout",
     "output_type": "stream",
     "text": [
      "Connected: True\n"
     ]
    }
   ],
   "source": [
    "from web3 import Web3\n",
    "from dotenv import dotenv_values\n",
    "\n",
    "config = dotenv_values(\".env\")\n",
    "\n",
    "alchemy_url = f\"https://polygon-mumbai.g.alchemy.com/v2/{config['WEB3_ALCHEMY_API_KEY']}\"\n",
    "\n",
    "\n",
    "web3 = Web3(Web3.HTTPProvider(alchemy_url))\n",
    "print(\"Connected:\", web3.is_connected())"
   ]
  },
  {
   "cell_type": "markdown",
   "metadata": {},
   "source": [
    "## Getting Blockchain Info"
   ]
  },
  {
   "cell_type": "markdown",
   "metadata": {},
   "source": [
    "Get the latest block number"
   ]
  },
  {
   "cell_type": "code",
   "execution_count": 5,
   "metadata": {},
   "outputs": [
    {
     "name": "stdout",
     "output_type": "stream",
     "text": [
      "Latest block: 34575090\n"
     ]
    }
   ],
   "source": [
    "latest_block = web3.eth.block_number\n",
    "print(\"Latest block:\", latest_block)"
   ]
  },
  {
   "cell_type": "markdown",
   "metadata": {},
   "source": [
    "Get the balance of an account"
   ]
  },
  {
   "cell_type": "code",
   "execution_count": 6,
   "metadata": {},
   "outputs": [
    {
     "name": "stdout",
     "output_type": "stream",
     "text": [
      "3000000000005000000\n"
     ]
    }
   ],
   "source": [
    "balance = web3.eth.get_balance('0x742d35Cc6634C0532925a3b844Bc454e4438f44e')\n",
    "print(balance)"
   ]
  },
  {
   "cell_type": "markdown",
   "metadata": {},
   "source": [
    "Get the information of a transaction"
   ]
  },
  {
   "cell_type": "code",
   "execution_count": 7,
   "metadata": {},
   "outputs": [
    {
     "name": "stdout",
     "output_type": "stream",
     "text": [
      "AttributeDict({'blockHash': HexBytes('0x15760644c8c6f44c5a9e9286339c5ad46738732ccb9a7e6a7fda1ea6b4e7f09b'), 'blockNumber': 34575084, 'hash': HexBytes('0x4ed3f7a738f580d948b902c141834362240a1b8369d258eb9cdcde80f55bcd38'), 'accessList': [], 'chainId': 80001, 'from': '0xc7aA651e2C334bd2d78262aA46F66d9751FeCF1b', 'gas': 451300, 'gasPrice': 2500000018, 'input': '0x79ee54f70000000000000000000000006f4f6c93fa4f6588732a3d33dd01021983c418b0', 'maxFeePerGas': 2500000036, 'maxPriorityFeePerGas': 2500000000, 'nonce': 127, 'r': HexBytes('0x43ffb30562417891d50fbb67fd602d17c3a96aff79f319d461e935cb609b42ce'), 's': HexBytes('0x1ae2f667392e3172895c164e9a55237307970f761d92e24da0f1790c1b160cd1'), 'to': '0x2650DACcd76941078ed18E0FCc7db8f18b7F55cF', 'transactionIndex': 8, 'type': 2, 'v': 0, 'value': 0})\n"
     ]
    }
   ],
   "source": [
    "tx = web3.eth.get_transaction('0x4ed3f7a738f580d948b902c141834362240a1b8369d258eb9cdcde80f55bcd38')\n",
    "print(tx)"
   ]
  },
  {
   "cell_type": "markdown",
   "metadata": {},
   "source": [
    "## Accounts"
   ]
  },
  {
   "cell_type": "code",
   "execution_count": 120,
   "metadata": {},
   "outputs": [],
   "source": [
    "from eth_account import Account\n",
    "acct = Account.create()"
   ]
  },
  {
   "cell_type": "code",
   "execution_count": 121,
   "metadata": {},
   "outputs": [],
   "source": [
    "from eth_account import Account\n",
    "acct = Account.create('KEYSMASH FJAFJKLDSKF7JKFDJ 1530')"
   ]
  },
  {
   "cell_type": "code",
   "execution_count": 124,
   "metadata": {},
   "outputs": [
    {
     "name": "stdout",
     "output_type": "stream",
     "text": [
      "Address: 0x80474f5B0188DCf0d1052d79652f53684688612F\n",
      "Private key: 0xf35358f1ddee611dfd67aee416840de2e5b4308c3fe97f652465e7abdb366c90\n",
      "Mnemonic: kid token equip initial toast zoo kick sight warfare icon cloud when\n"
     ]
    }
   ],
   "source": [
    "from eth_account import Account\n",
    "Account.enable_unaudited_hdwallet_features()\n",
    "acct, mnemonic = Account.create_with_mnemonic()\n",
    "print(\"Address:\", acct.address)\n",
    "print(\"Private key:\", acct.privateKey.hex())\n",
    "print(\"Mnemonic:\", mnemonic)"
   ]
  },
  {
   "cell_type": "code",
   "execution_count": 127,
   "metadata": {},
   "outputs": [
    {
     "name": "stdout",
     "output_type": "stream",
     "text": [
      "Address: 0x80474f5B0188DCf0d1052d79652f53684688612F\n",
      "Private key: 0xf35358f1ddee611dfd67aee416840de2e5b4308c3fe97f652465e7abdb366c90\n"
     ]
    }
   ],
   "source": [
    "print(\"Address:\", acct.address)\n",
    "print(\"Private key:\", acct.privateKey.hex())"
   ]
  },
  {
   "cell_type": "code",
   "execution_count": 128,
   "metadata": {},
   "outputs": [],
   "source": [
    "account_address = \"0x12b7Fc9c3D702284Ffda4a9D74eA11396Dd21D3E\"\n",
    "account_private_key= \"0x7887a3bf06478afdbf967b877869c5e17015d2245667e7e88ad3c66e7a5a7e25\""
   ]
  },
  {
   "cell_type": "code",
   "execution_count": 129,
   "metadata": {},
   "outputs": [],
   "source": [
    "from dotenv import dotenv_values\n",
    "config = dotenv_values(\".env\")\n",
    "\n",
    "user = Account.from_key(config.get('PRIVATE_KEY'))"
   ]
  },
  {
   "cell_type": "code",
   "execution_count": 92,
   "metadata": {},
   "outputs": [],
   "source": [
    "user = Account.from_mnemonic(\"cheap gauge cradle profit fantasy report album water tobacco very tired smart\")"
   ]
  },
  {
   "cell_type": "code",
   "execution_count": 93,
   "metadata": {},
   "outputs": [
    {
     "name": "stdout",
     "output_type": "stream",
     "text": [
      "ETH Balance:  0\n"
     ]
    }
   ],
   "source": [
    "balance = web3.eth.get_balance(user.address)\n",
    "humanReadable = Web3.from_wei(balance,'ether')\n",
    "print(\"ETH Balance: \", humanReadable)"
   ]
  },
  {
   "cell_type": "code",
   "execution_count": 94,
   "metadata": {},
   "outputs": [
    {
     "data": {
      "text/plain": [
       "'0x5e29d1B34f4E4ab268a492A0C6fDf5e5D204eeE5'"
      ]
     },
     "execution_count": 94,
     "metadata": {},
     "output_type": "execute_result"
    }
   ],
   "source": [
    "user2 = Account.create()\n",
    "user2.address"
   ]
  },
  {
   "cell_type": "code",
   "execution_count": 133,
   "metadata": {},
   "outputs": [
    {
     "name": "stdout",
     "output_type": "stream",
     "text": [
      "ETH Balance:  0\n"
     ]
    }
   ],
   "source": [
    "balance = web3.eth.get_balance(user2.address)\n",
    "print(\"ETH Balance: \", balance)"
   ]
  },
  {
   "cell_type": "markdown",
   "metadata": {},
   "source": [
    "## Transactions "
   ]
  },
  {
   "cell_type": "code",
   "execution_count": 131,
   "metadata": {},
   "outputs": [],
   "source": [
    "tx = {\n",
    "    \"from\": user.address,\n",
    "    \"to\": user2.address,\n",
    "    \"value\": 12345,\n",
    "    \"nonce\": web3.eth.get_transaction_count(user.address),\n",
    "    \"gas\": 100000,\n",
    "    \"gasPrice\": 10000,\n",
    "    \"chainId\": web3.eth.chain_id\n",
    "}\n",
    "\n",
    "singed_tx = web3.eth.account.sign_transaction(tx, user.privateKey)\n",
    "try:\n",
    "    web3.eth.send_raw_transaction(singed_tx.rawTransaction)\n",
    "except Exception as e:\n",
    "    print(e)"
   ]
  },
  {
   "cell_type": "markdown",
   "metadata": {},
   "source": [
    "### Deploying a Smart Contract"
   ]
  },
  {
   "cell_type": "code",
   "execution_count": 9,
   "metadata": {},
   "outputs": [],
   "source": [
    "import vyper"
   ]
  },
  {
   "cell_type": "code",
   "execution_count": 10,
   "metadata": {},
   "outputs": [
    {
     "data": {
      "text/plain": [
       "'PUSH2 0x0D PUSH2 0x0F PUSH1 0x0 CODECOPY PUSH2 0x0D PUSH1 0x0 RETURN LOG1 PUSH6 0x767970657283 STOP SUB MOD STOP SIGNEXTEND'"
      ]
     },
     "execution_count": 10,
     "metadata": {},
     "output_type": "execute_result"
    }
   ],
   "source": [
    "source_vyper = \"\"\"\n",
    "\n",
    "# @version ^0.3.6\n",
    "    \n",
    "\"\"\"\n",
    "\n",
    "compiled_vyper = vyper.compile_code(source_vyper, output_formats=['abi', 'bytecode', 'opcodes'])\n",
    "compiled_vyper.get('opcodes')"
   ]
  },
  {
   "cell_type": "code",
   "execution_count": 12,
   "metadata": {},
   "outputs": [],
   "source": [
    "source_vyper = \"\"\"\n",
    "\n",
    "# @version ^0.3.6\n",
    "\n",
    "val: public(uint16)\n",
    "\n",
    "@external\n",
    "def __init__():\n",
    "    self.val = 1904\n",
    "    \n",
    "\"\"\"\n",
    "\n",
    "compiled_vyper = vyper.compile_code(source_vyper, output_formats=['abi', 'bytecode', 'opcodes'])\n",
    "abi = compiled_vyper.get('abi')\n",
    "bytecode = compiled_vyper.get('bytecode')"
   ]
  },
  {
   "cell_type": "code",
   "execution_count": 13,
   "metadata": {},
   "outputs": [
    {
     "data": {
      "text/plain": [
       "'CALLVALUE PUSH2 0x06B JUMPI PUSH2 0x770 PUSH1 0x0 SSTORE PUSH2 0x050 PUSH2 0x01A PUSH1 0x0 CODECOPY PUSH2 0x050 PUSH1 0x0 RETURN PUSH1 0x3 CALLDATASIZE GT PUSH2 0x0C JUMPI PUSH2 0x038 JUMP JUMPDEST PUSH1 0x0 CALLDATALOAD PUSH1 0xE0 SHR CALLVALUE PUSH2 0x03E JUMPI PUSH4 0x3C6BB436 DUP2 XOR PUSH2 0x036 JUMPI PUSH1 0x4 CALLDATASIZE XOR PUSH2 0x03E JUMPI PUSH1 0x0 SLOAD PUSH1 0x40 MSTORE PUSH1 0x20 PUSH1 0x40 RETURN JUMPDEST POP JUMPDEST PUSH1 0x0 PUSH1 0x0 REVERT JUMPDEST PUSH1 0x0 DUP1 REVERT LOG1 PUSH6 0x767970657283 STOP SUB MOD STOP SIGNEXTEND STOP JUMPDEST PUSH1 0x0 DUP1 REVERT'"
      ]
     },
     "execution_count": 13,
     "metadata": {},
     "output_type": "execute_result"
    }
   ],
   "source": [
    "compiled_vyper.get('opcodes')"
   ]
  },
  {
   "cell_type": "code",
   "execution_count": 14,
   "metadata": {},
   "outputs": [
    {
     "data": {
      "text/plain": [
       "'0x770'"
      ]
     },
     "execution_count": 14,
     "metadata": {},
     "output_type": "execute_result"
    }
   ],
   "source": [
    "hex(1904)"
   ]
  },
  {
   "cell_type": "code",
   "execution_count": 141,
   "metadata": {},
   "outputs": [
    {
     "data": {
      "text/plain": [
       "'0x845CfE27e8a053BA34E9cc4871D9090206a333Fd'"
      ]
     },
     "execution_count": 141,
     "metadata": {},
     "output_type": "execute_result"
    }
   ],
   "source": [
    "from eth_account import Account\n",
    "\n",
    "account = Account.from_key(config['PRIVATE_KEY'])\n",
    "account.address"
   ]
  },
  {
   "cell_type": "code",
   "execution_count": 144,
   "metadata": {},
   "outputs": [
    {
     "data": {
      "text/plain": [
       "192094395413806121"
      ]
     },
     "execution_count": 144,
     "metadata": {},
     "output_type": "execute_result"
    }
   ],
   "source": [
    "web3.eth.get_balance(account.address)"
   ]
  },
  {
   "cell_type": "code",
   "execution_count": 146,
   "metadata": {},
   "outputs": [
    {
     "name": "stdout",
     "output_type": "stream",
     "text": [
      "Waiting for transaction 0x60b2f7706ea6ddd6a47f1415bb1655dd663c9b98e782d4316177604314ab9dd1 to be included in a block...\n",
      "Contract deployed at: 0xA36b55AEb26529Ad1600b1EB8301766F254aA0b0\n"
     ]
    }
   ],
   "source": [
    "contract = web3.eth.contract(abi=abi, bytecode=bytecode)\n",
    "\n",
    "transaction = contract.constructor().build_transaction({\n",
    "    \"from\": account.address,\n",
    "    'nonce' : web3.eth.get_transaction_count(account.address),\n",
    "    'gas': 900000,\n",
    "    'gasPrice': web3.to_wei(50, 'gwei'),\n",
    "    'chainId': web3.eth.chain_id\n",
    "    })\n",
    "\n",
    "\n",
    "signed_tx = web3.eth.account.sign_transaction(transaction, account.privateKey)\n",
    "\n",
    "tx_hash = web3.eth.send_raw_transaction(signed_tx.rawTransaction)\n",
    "print(f\"Waiting for transaction {web3.toHex(tx_hash)} to be included in a block...\") \n",
    "response = web3.eth.wait_for_transaction_receipt(web3.toHex(tx_hash))\n",
    "contract_address = response.get('contractAddress')\n",
    "print(\"Contract deployed at:\", contract_address)"
   ]
  },
  {
   "cell_type": "markdown",
   "metadata": {},
   "source": [
    "## Interacting with Smart Contracts"
   ]
  },
  {
   "cell_type": "code",
   "execution_count": 147,
   "metadata": {},
   "outputs": [
    {
     "name": "stdout",
     "output_type": "stream",
     "text": [
      "Stored value in contract: 1904\n"
     ]
    }
   ],
   "source": [
    "deployed_contract = web3.eth.contract(abi=abi, address=contract_address)\n",
    "stored_value = deployed_contract.functions.val().call()\n",
    "print(\"Stored value in contract:\", stored_value)"
   ]
  },
  {
   "cell_type": "markdown",
   "metadata": {},
   "source": [
    "## Uniswap V3 Price on Ethereum"
   ]
  },
  {
   "cell_type": "code",
   "execution_count": 151,
   "metadata": {},
   "outputs": [],
   "source": [
    "quoter_abi = [\n",
    "    {\n",
    "      \"inputs\": [\n",
    "        {\n",
    "          \"internalType\": \"address\",\n",
    "          \"name\": \"_factory\",\n",
    "          \"type\": \"address\"\n",
    "        },\n",
    "        {\n",
    "          \"internalType\": \"address\",\n",
    "          \"name\": \"_WETH9\",\n",
    "          \"type\": \"address\"\n",
    "        }\n",
    "      ],\n",
    "      \"stateMutability\": \"nonpayable\",\n",
    "      \"type\": \"constructor\"\n",
    "    },\n",
    "    {\n",
    "      \"inputs\": [],\n",
    "      \"name\": \"WETH9\",\n",
    "      \"outputs\": [\n",
    "        {\n",
    "          \"internalType\": \"address\",\n",
    "          \"name\": \"\",\n",
    "          \"type\": \"address\"\n",
    "        }\n",
    "      ],\n",
    "      \"stateMutability\": \"view\",\n",
    "      \"type\": \"function\"\n",
    "    },\n",
    "    {\n",
    "      \"inputs\": [],\n",
    "      \"name\": \"factory\",\n",
    "      \"outputs\": [\n",
    "        {\n",
    "          \"internalType\": \"address\",\n",
    "          \"name\": \"\",\n",
    "          \"type\": \"address\"\n",
    "        }\n",
    "      ],\n",
    "      \"stateMutability\": \"view\",\n",
    "      \"type\": \"function\"\n",
    "    },\n",
    "    {\n",
    "      \"inputs\": [\n",
    "        {\n",
    "          \"internalType\": \"bytes\",\n",
    "          \"name\": \"path\",\n",
    "          \"type\": \"bytes\"\n",
    "        },\n",
    "        {\n",
    "          \"internalType\": \"uint256\",\n",
    "          \"name\": \"amountIn\",\n",
    "          \"type\": \"uint256\"\n",
    "        }\n",
    "      ],\n",
    "      \"name\": \"quoteExactInput\",\n",
    "      \"outputs\": [\n",
    "        {\n",
    "          \"internalType\": \"uint256\",\n",
    "          \"name\": \"amountOut\",\n",
    "          \"type\": \"uint256\"\n",
    "        }\n",
    "      ],\n",
    "      \"stateMutability\": \"nonpayable\",\n",
    "      \"type\": \"function\"\n",
    "    },\n",
    "    {\n",
    "      \"inputs\": [\n",
    "        {\n",
    "          \"internalType\": \"address\",\n",
    "          \"name\": \"tokenIn\",\n",
    "          \"type\": \"address\"\n",
    "        },\n",
    "        {\n",
    "          \"internalType\": \"address\",\n",
    "          \"name\": \"tokenOut\",\n",
    "          \"type\": \"address\"\n",
    "        },\n",
    "        {\n",
    "          \"internalType\": \"uint24\",\n",
    "          \"name\": \"fee\",\n",
    "          \"type\": \"uint24\"\n",
    "        },\n",
    "        {\n",
    "          \"internalType\": \"uint256\",\n",
    "          \"name\": \"amountIn\",\n",
    "          \"type\": \"uint256\"\n",
    "        },\n",
    "        {\n",
    "          \"internalType\": \"uint160\",\n",
    "          \"name\": \"sqrtPriceLimitX96\",\n",
    "          \"type\": \"uint160\"\n",
    "        }\n",
    "      ],\n",
    "      \"name\": \"quoteExactInputSingle\",\n",
    "      \"outputs\": [\n",
    "        {\n",
    "          \"internalType\": \"uint256\",\n",
    "          \"name\": \"amountOut\",\n",
    "          \"type\": \"uint256\"\n",
    "        }\n",
    "      ],\n",
    "      \"stateMutability\": \"nonpayable\",\n",
    "      \"type\": \"function\"\n",
    "    },\n",
    "    {\n",
    "      \"inputs\": [\n",
    "        {\n",
    "          \"internalType\": \"bytes\",\n",
    "          \"name\": \"path\",\n",
    "          \"type\": \"bytes\"\n",
    "        },\n",
    "        {\n",
    "          \"internalType\": \"uint256\",\n",
    "          \"name\": \"amountOut\",\n",
    "          \"type\": \"uint256\"\n",
    "        }\n",
    "      ],\n",
    "      \"name\": \"quoteExactOutput\",\n",
    "      \"outputs\": [\n",
    "        {\n",
    "          \"internalType\": \"uint256\",\n",
    "          \"name\": \"amountIn\",\n",
    "          \"type\": \"uint256\"\n",
    "        }\n",
    "      ],\n",
    "      \"stateMutability\": \"nonpayable\",\n",
    "      \"type\": \"function\"\n",
    "    },\n",
    "    {\n",
    "      \"inputs\": [\n",
    "        {\n",
    "          \"internalType\": \"address\",\n",
    "          \"name\": \"tokenIn\",\n",
    "          \"type\": \"address\"\n",
    "        },\n",
    "        {\n",
    "          \"internalType\": \"address\",\n",
    "          \"name\": \"tokenOut\",\n",
    "          \"type\": \"address\"\n",
    "        },\n",
    "        {\n",
    "          \"internalType\": \"uint24\",\n",
    "          \"name\": \"fee\",\n",
    "          \"type\": \"uint24\"\n",
    "        },\n",
    "        {\n",
    "          \"internalType\": \"uint256\",\n",
    "          \"name\": \"amountOut\",\n",
    "          \"type\": \"uint256\"\n",
    "        },\n",
    "        {\n",
    "          \"internalType\": \"uint160\",\n",
    "          \"name\": \"sqrtPriceLimitX96\",\n",
    "          \"type\": \"uint160\"\n",
    "        }\n",
    "      ],\n",
    "      \"name\": \"quoteExactOutputSingle\",\n",
    "      \"outputs\": [\n",
    "        {\n",
    "          \"internalType\": \"uint256\",\n",
    "          \"name\": \"amountIn\",\n",
    "          \"type\": \"uint256\"\n",
    "        }\n",
    "      ],\n",
    "      \"stateMutability\": \"nonpayable\",\n",
    "      \"type\": \"function\"\n",
    "    },\n",
    "    {\n",
    "      \"inputs\": [\n",
    "        {\n",
    "          \"internalType\": \"int256\",\n",
    "          \"name\": \"amount0Delta\",\n",
    "          \"type\": \"int256\"\n",
    "        },\n",
    "        {\n",
    "          \"internalType\": \"int256\",\n",
    "          \"name\": \"amount1Delta\",\n",
    "          \"type\": \"int256\"\n",
    "        },\n",
    "        {\n",
    "          \"internalType\": \"bytes\",\n",
    "          \"name\": \"path\",\n",
    "          \"type\": \"bytes\"\n",
    "        }\n",
    "      ],\n",
    "      \"name\": \"uniswapV3SwapCallback\",\n",
    "      \"outputs\": [],\n",
    "      \"stateMutability\": \"view\",\n",
    "      \"type\": \"function\"\n",
    "    }\n",
    "  ]"
   ]
  },
  {
   "cell_type": "code",
   "execution_count": 228,
   "metadata": {},
   "outputs": [
    {
     "name": "stdout",
     "output_type": "stream",
     "text": [
      "Ethereum Connection:  True\n"
     ]
    }
   ],
   "source": [
    "from web3 import Web3\n",
    "web3 = Web3(Web3.HTTPProvider(\"https://ethereum.publicnode.com\"))\n",
    "print(\"Ethereum Connection: \", web3.is_connected())"
   ]
  },
  {
   "cell_type": "code",
   "execution_count": 229,
   "metadata": {},
   "outputs": [
    {
     "name": "stdout",
     "output_type": "stream",
     "text": [
      "WBTC Price: 30,212.93\n"
     ]
    }
   ],
   "source": [
    "quoter_address = \"0xb27308f9F90D607463bb33eA1BeBb41C27CE5AB6\"\n",
    "\n",
    "quoter = web3.eth.contract(address=quoter_address, abi=quoter_abi)\n",
    "token0_address = \"0x2260FAC5E5542a773Aa44fBCfeDf7C193bc2C599\" #WBTC\n",
    "token1_address = \"0xA0b86991c6218b36c1d19D4a2e9Eb0cE3606eB48\" #USDC\n",
    "fee = 500\n",
    "\n",
    "try:\n",
    "    val = quoter.functions.quoteExactInputSingle(\n",
    "        token0_address,\n",
    "        token1_address,\n",
    "        fee,\n",
    "        int(1e8),\n",
    "        0\n",
    "      ).call()    \n",
    "except Exception as e:\n",
    "    print(e)\n",
    "print(f\"WBTC Price: {val / 1e6:,.2f}\")"
   ]
  }
 ],
 "metadata": {
  "kernelspec": {
   "display_name": "Python 3 (ipykernel)",
   "language": "python",
   "name": "python3"
  },
  "language_info": {
   "codemirror_mode": {
    "name": "ipython",
    "version": 3
   },
   "file_extension": ".py",
   "mimetype": "text/x-python",
   "name": "python",
   "nbconvert_exporter": "python",
   "pygments_lexer": "ipython3",
   "version": "3.10.7"
  }
 },
 "nbformat": 4,
 "nbformat_minor": 4
}
